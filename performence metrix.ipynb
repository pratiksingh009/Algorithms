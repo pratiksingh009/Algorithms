{
 "cells": [
  {
   "cell_type": "code",
   "execution_count": 1,
   "id": "a45ea409-d96b-462d-8399-60a3cf28de26",
   "metadata": {},
   "outputs": [],
   "source": [
    "import pandas as pd\n",
    "import numpy as np"
   ]
  },
  {
   "cell_type": "code",
   "execution_count": 2,
   "id": "12701afd-295a-4d51-8ab9-b8fd2666edbf",
   "metadata": {},
   "outputs": [],
   "source": [
    "data = pd.read_csv('output.csv')\n",
    "y1 = data['actual']\n",
    "y2 = data['model1']\n",
    "y3 = data['model2']"
   ]
  },
  {
   "cell_type": "code",
   "execution_count": 6,
   "id": "4ae4e7f1-a47d-4c75-b9b4-65e1c2a6d32b",
   "metadata": {},
   "outputs": [
    {
     "data": {
      "text/plain": [
       "861907.5338992083"
      ]
     },
     "execution_count": 6,
     "metadata": {},
     "output_type": "execute_result"
    }
   ],
   "source": [
    "#model1\n",
    "actual_values1 = np.array(y1)\n",
    "predicted_values1 = np.array(y2)\n",
    "square_error1 = (predicted_values1 - actual_values1)**2\n",
    "#mean square error for model 1\n",
    "MSE1 = np.mean(square_error1)\n",
    "#mean square error percentage for model 1\n",
    "MSEP1 = np.mean(square_error1/(actual_values1)**2)*100\n",
    "#root mean square error for model 1\n",
    "RMSE1 = np.sqrt(MSE1)\n",
    "#root mean square error percentage for model 1\n",
    "RMSEP1 = np.sqrt(np.mean((square_error1)/(actual_values1)**2))*100\n",
    "#coefficient of determination of model 1\n",
    "RSS1 = np.sum(square_error1)\n",
    "actual_mean1 = np.mean(actual_values1)\n",
    "TSS1 = np.sum((actual_values1-actual_mean1)**2)\n",
    "coeff_of_determination1 = 1-(RSS1/TSS1)\n",
    "#mean absolute error of model 1\n",
    "MAE1 = np.mean((np.abs(predicted_values1-actual_values1)))\n",
    "#mean absolute percentage error of model 1\n",
    "MAPE1 = np.mean((np.abs(predicted_values1-actual_values1)/actual_values1))*100\n",
    "MSE1"
   ]
  },
  {
   "cell_type": "code",
   "execution_count": 8,
   "id": "362b6f8b-1c50-4425-a432-ad4cae0d7109",
   "metadata": {},
   "outputs": [
    {
     "data": {
      "text/plain": [
       "6490716.003304691"
      ]
     },
     "execution_count": 8,
     "metadata": {},
     "output_type": "execute_result"
    }
   ],
   "source": [
    "#model2\n",
    "actual_values2 = np.array(y1)\n",
    "predicted_values2 = np.array(y3)\n",
    "square_error2 = (predicted_values2 - actual_values2)**2\n",
    "#mean square error for model 2\n",
    "MSE2 = np.mean(square_error2)\n",
    "#mean square error percentage for model 2\n",
    "MSEP2 = np.mean(square_error2/(actual_values2)**2)*100\n",
    "#root mean square error for model 2\n",
    "RMSE2 = np.sqrt(MSE2)\n",
    "#root mean square error percentage for model 2\n",
    "RMSEP2 = np.sqrt(np.mean((square_error2)/(actual_values2)**2))*100\n",
    "#coefficient of determination of model 2\n",
    "RSS2 = np.sum(square_error2)\n",
    "actual_mean2 = np.mean(actual_values2)\n",
    "TSS2 = np.sum((actual_values2-actual_mean2)**2)\n",
    "coeff_of_determination2 = 1-(RSS2/TSS2)\n",
    "#mean absolute error of model 2\n",
    "MAE2 = np.mean((np.abs(predicted_values2-actual_values2)))\n",
    "#mean absolute percentage error of model 2\n",
    "MAPE2 = np.mean((np.abs(predicted_values2-actual_values2)/actual_values2))*100\n",
    "MSE2"
   ]
  },
  {
   "cell_type": "code",
   "execution_count": 5,
   "id": "440add6c-d700-48dd-8472-ef801fa97074",
   "metadata": {},
   "outputs": [],
   "source": [
    "data = {\n",
    "    'Model': ['Model 1', 'Model 2'],\n",
    "    'MSE': [MSE1, MSE2],\n",
    "    'RMSE': [RMSE1, RMSE2],\n",
    "    'R-squared': [coeff_of_determination1, coeff_of_determination2],\n",
    "    'MAE': [MAE1, MAE2],\n",
    "    'MSEP':[MSEP1, MSEP2],\n",
    "    'RMSEP':[RMSEP1,RMSEP2],\n",
    "    'MAPE': [MAPE1, MAPE2]\n",
    "}\n",
    "\n",
    "error = pd.DataFrame(data)\n",
    "error.to_csv(\"error.csv\",index=False)"
   ]
  }
 ],
 "metadata": {
  "kernelspec": {
   "display_name": "Python 3 (ipykernel)",
   "language": "python",
   "name": "python3"
  },
  "language_info": {
   "codemirror_mode": {
    "name": "ipython",
    "version": 3
   },
   "file_extension": ".py",
   "mimetype": "text/x-python",
   "name": "python",
   "nbconvert_exporter": "python",
   "pygments_lexer": "ipython3",
   "version": "3.11.3"
  }
 },
 "nbformat": 4,
 "nbformat_minor": 5
}
